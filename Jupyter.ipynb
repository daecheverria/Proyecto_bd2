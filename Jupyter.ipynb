{
 "cells": [
  {
   "cell_type": "code",
   "execution_count": 1,
   "metadata": {},
   "outputs": [],
   "source": [
    "import pandas as pd \n",
    "import numpy as np\n"
   ]
  },
  {
   "cell_type": "code",
   "execution_count": 2,
   "metadata": {},
   "outputs": [],
   "source": [
    "df = pd.read_csv(\"DatosEmpleado.csv\")"
   ]
  },
  {
   "cell_type": "code",
   "execution_count": 3,
   "metadata": {},
   "outputs": [
    {
     "data": {
      "text/html": [
       "<div>\n",
       "<style scoped>\n",
       "    .dataframe tbody tr th:only-of-type {\n",
       "        vertical-align: middle;\n",
       "    }\n",
       "\n",
       "    .dataframe tbody tr th {\n",
       "        vertical-align: top;\n",
       "    }\n",
       "\n",
       "    .dataframe thead th {\n",
       "        text-align: right;\n",
       "    }\n",
       "</style>\n",
       "<table border=\"1\" class=\"dataframe\">\n",
       "  <thead>\n",
       "    <tr style=\"text-align: right;\">\n",
       "      <th></th>\n",
       "      <th>ID</th>\n",
       "      <th>FullName</th>\n",
       "      <th>JobTitle</th>\n",
       "      <th>Department</th>\n",
       "      <th>BusinessUnit</th>\n",
       "      <th>Gender</th>\n",
       "      <th>Ethnicity</th>\n",
       "      <th>Age</th>\n",
       "      <th>HireDate</th>\n",
       "      <th>AnnualSalary</th>\n",
       "      <th>Bonus</th>\n",
       "      <th>Country</th>\n",
       "      <th>City</th>\n",
       "    </tr>\n",
       "  </thead>\n",
       "  <tbody>\n",
       "    <tr>\n",
       "      <th>0</th>\n",
       "      <td>1</td>\n",
       "      <td>Emily Davis</td>\n",
       "      <td>Sr. Manger</td>\n",
       "      <td>IT</td>\n",
       "      <td>Research &amp; Development</td>\n",
       "      <td>Female</td>\n",
       "      <td>Black</td>\n",
       "      <td>55</td>\n",
       "      <td>4/8/2016</td>\n",
       "      <td>$141.604/</td>\n",
       "      <td>15%</td>\n",
       "      <td>United States</td>\n",
       "      <td>Seattle</td>\n",
       "    </tr>\n",
       "    <tr>\n",
       "      <th>1</th>\n",
       "      <td>2</td>\n",
       "      <td>Theodore Dinh</td>\n",
       "      <td>Technical Architect</td>\n",
       "      <td>IT</td>\n",
       "      <td>Manufacturing</td>\n",
       "      <td>Male</td>\n",
       "      <td>Asian</td>\n",
       "      <td>59</td>\n",
       "      <td>11/29/1997</td>\n",
       "      <td>$99.975/</td>\n",
       "      <td>0%</td>\n",
       "      <td>China</td>\n",
       "      <td>Chongqing</td>\n",
       "    </tr>\n",
       "    <tr>\n",
       "      <th>2</th>\n",
       "      <td>3</td>\n",
       "      <td>Luna Sanders</td>\n",
       "      <td>Director</td>\n",
       "      <td>Finance</td>\n",
       "      <td>Speciality Products</td>\n",
       "      <td>Female</td>\n",
       "      <td>Caucasian</td>\n",
       "      <td>50</td>\n",
       "      <td>10/26/2006</td>\n",
       "      <td>$163.099/</td>\n",
       "      <td>20%</td>\n",
       "      <td>United States</td>\n",
       "      <td>Chicago</td>\n",
       "    </tr>\n",
       "    <tr>\n",
       "      <th>3</th>\n",
       "      <td>4</td>\n",
       "      <td>Penelope Jordan</td>\n",
       "      <td>Computer Systems Manager</td>\n",
       "      <td>IT</td>\n",
       "      <td>Manufacturing</td>\n",
       "      <td>Female</td>\n",
       "      <td>Caucasian</td>\n",
       "      <td>26</td>\n",
       "      <td>9/27/2019</td>\n",
       "      <td>$84.913/</td>\n",
       "      <td>7%</td>\n",
       "      <td>United States</td>\n",
       "      <td>Chicago</td>\n",
       "    </tr>\n",
       "    <tr>\n",
       "      <th>4</th>\n",
       "      <td>5</td>\n",
       "      <td>Austin Vo</td>\n",
       "      <td>Sr. Analyst</td>\n",
       "      <td>Finance</td>\n",
       "      <td>Manufacturing</td>\n",
       "      <td>Male</td>\n",
       "      <td>Asian</td>\n",
       "      <td>55</td>\n",
       "      <td>11/20/1995</td>\n",
       "      <td>$95.409/</td>\n",
       "      <td>0%</td>\n",
       "      <td>United States</td>\n",
       "      <td>Phoenix</td>\n",
       "    </tr>\n",
       "  </tbody>\n",
       "</table>\n",
       "</div>"
      ],
      "text/plain": [
       "   ID         FullName                  JobTitle Department  \\\n",
       "0   1      Emily Davis                Sr. Manger         IT   \n",
       "1   2    Theodore Dinh       Technical Architect         IT   \n",
       "2   3     Luna Sanders                  Director    Finance   \n",
       "3   4  Penelope Jordan  Computer Systems Manager         IT   \n",
       "4   5        Austin Vo               Sr. Analyst    Finance   \n",
       "\n",
       "             BusinessUnit  Gender  Ethnicity  Age    HireDate AnnualSalary  \\\n",
       "0  Research & Development  Female      Black   55    4/8/2016    $141.604/   \n",
       "1           Manufacturing    Male      Asian   59  11/29/1997     $99.975/   \n",
       "2     Speciality Products  Female  Caucasian   50  10/26/2006    $163.099/   \n",
       "3           Manufacturing  Female  Caucasian   26   9/27/2019     $84.913/   \n",
       "4           Manufacturing    Male      Asian   55  11/20/1995     $95.409/   \n",
       "\n",
       "  Bonus        Country       City  \n",
       "0   15%  United States    Seattle  \n",
       "1    0%          China  Chongqing  \n",
       "2   20%  United States    Chicago  \n",
       "3    7%  United States    Chicago  \n",
       "4    0%  United States    Phoenix  "
      ]
     },
     "execution_count": 3,
     "metadata": {},
     "output_type": "execute_result"
    }
   ],
   "source": [
    "df.head(5)"
   ]
  },
  {
   "cell_type": "code",
   "execution_count": 4,
   "metadata": {},
   "outputs": [],
   "source": [
    "df = df[df['Country'] == 'United States'] "
   ]
  },
  {
   "cell_type": "code",
   "execution_count": 5,
   "metadata": {},
   "outputs": [
    {
     "name": "stderr",
     "output_type": "stream",
     "text": [
      "C:\\Users\\sisir\\AppData\\Local\\Temp\\ipykernel_23740\\2885001675.py:2: FutureWarning: The default value of regex will change from True to False in a future version. In addition, single character regular expressions will *not* be treated as literal strings when regex=True.\n",
      "  df['Bonus'] = df['Bonus'].str.replace('.', '')\n"
     ]
    }
   ],
   "source": [
    "df['Bonus'] = df['Bonus'].str.replace('%', '.')\n",
    "df['Bonus'] = df['Bonus'].str.replace('.', '')"
   ]
  },
  {
   "cell_type": "code",
   "execution_count": 6,
   "metadata": {},
   "outputs": [],
   "source": [
    "df.rename(columns={'Bonus': 'Bonus(%)'}, inplace=True)"
   ]
  },
  {
   "cell_type": "code",
   "execution_count": 7,
   "metadata": {},
   "outputs": [],
   "source": [
    "df[['HireMonth', 'HireDay', 'HireYear']] = df['HireDate'].str.split('/', expand=True)"
   ]
  },
  {
   "cell_type": "code",
   "execution_count": 8,
   "metadata": {},
   "outputs": [
    {
     "name": "stderr",
     "output_type": "stream",
     "text": [
      "C:\\Users\\sisir\\AppData\\Local\\Temp\\ipykernel_23740\\176997128.py:1: FutureWarning: The default value of regex will change from True to False in a future version. In addition, single character regular expressions will *not* be treated as literal strings when regex=True.\n",
      "  df['AnnualSalary'] = df['AnnualSalary'].str.replace('$', '/')\n",
      "C:\\Users\\sisir\\AppData\\Local\\Temp\\ipykernel_23740\\176997128.py:2: FutureWarning: The default value of regex will change from True to False in a future version. In addition, single character regular expressions will *not* be treated as literal strings when regex=True.\n",
      "  df['AnnualSalary'] = df['AnnualSalary'].str.replace('.', '')\n"
     ]
    }
   ],
   "source": [
    "df['AnnualSalary'] = df['AnnualSalary'].str.replace('$', '/')\n",
    "df['AnnualSalary'] = df['AnnualSalary'].str.replace('.', '')\n",
    "df['AnnualSalary'] = df['AnnualSalary'].str.replace('/', '')"
   ]
  },
  {
   "cell_type": "code",
   "execution_count": 9,
   "metadata": {},
   "outputs": [],
   "source": [
    "df.rename(columns={'AnnualSalary': 'AnnualSalary($)'}, inplace=True)"
   ]
  },
  {
   "cell_type": "code",
   "execution_count": 10,
   "metadata": {},
   "outputs": [
    {
     "name": "stderr",
     "output_type": "stream",
     "text": [
      "C:\\Users\\sisir\\AppData\\Local\\Temp\\ipykernel_23740\\777253437.py:1: FutureWarning: The default value of regex will change from True to False in a future version.\n",
      "  df['JobTitle'] = df['JobTitle'].str.replace('Sr. ', '')\n"
     ]
    }
   ],
   "source": [
    "df['JobTitle'] = df['JobTitle'].str.replace('Sr. ', '')"
   ]
  },
  {
   "cell_type": "code",
   "execution_count": 11,
   "metadata": {},
   "outputs": [],
   "source": [
    "df = df.drop(['FullName'], axis=1)\n",
    "df = df.drop(['Country'], axis=1)\n",
    "df = df.drop(['HireMonth'], axis=1)\n",
    "df = df.drop(['HireDay'], axis=1)\n",
    "df = df.drop(['HireDate'], axis=1)\n",
    "df = df.drop(['Ethnicity'], axis=1)\n"
   ]
  },
  {
   "cell_type": "code",
   "execution_count": 12,
   "metadata": {},
   "outputs": [],
   "source": [
    "df.rename(columns={'City': 'City(USA)'}, inplace=True)"
   ]
  },
  {
   "cell_type": "code",
   "execution_count": 13,
   "metadata": {},
   "outputs": [
    {
     "data": {
      "text/html": [
       "<div>\n",
       "<style scoped>\n",
       "    .dataframe tbody tr th:only-of-type {\n",
       "        vertical-align: middle;\n",
       "    }\n",
       "\n",
       "    .dataframe tbody tr th {\n",
       "        vertical-align: top;\n",
       "    }\n",
       "\n",
       "    .dataframe thead th {\n",
       "        text-align: right;\n",
       "    }\n",
       "</style>\n",
       "<table border=\"1\" class=\"dataframe\">\n",
       "  <thead>\n",
       "    <tr style=\"text-align: right;\">\n",
       "      <th></th>\n",
       "      <th>ID</th>\n",
       "      <th>JobTitle</th>\n",
       "      <th>Department</th>\n",
       "      <th>BusinessUnit</th>\n",
       "      <th>Gender</th>\n",
       "      <th>Age</th>\n",
       "      <th>AnnualSalary($)</th>\n",
       "      <th>Bonus(%)</th>\n",
       "      <th>City(USA)</th>\n",
       "      <th>HireYear</th>\n",
       "    </tr>\n",
       "  </thead>\n",
       "  <tbody>\n",
       "    <tr>\n",
       "      <th>0</th>\n",
       "      <td>1</td>\n",
       "      <td>Manger</td>\n",
       "      <td>IT</td>\n",
       "      <td>Research &amp; Development</td>\n",
       "      <td>Female</td>\n",
       "      <td>55</td>\n",
       "      <td>141604</td>\n",
       "      <td>15</td>\n",
       "      <td>Seattle</td>\n",
       "      <td>2016</td>\n",
       "    </tr>\n",
       "    <tr>\n",
       "      <th>2</th>\n",
       "      <td>3</td>\n",
       "      <td>Director</td>\n",
       "      <td>Finance</td>\n",
       "      <td>Speciality Products</td>\n",
       "      <td>Female</td>\n",
       "      <td>50</td>\n",
       "      <td>163099</td>\n",
       "      <td>20</td>\n",
       "      <td>Chicago</td>\n",
       "      <td>2006</td>\n",
       "    </tr>\n",
       "    <tr>\n",
       "      <th>3</th>\n",
       "      <td>4</td>\n",
       "      <td>Computer Systems Manager</td>\n",
       "      <td>IT</td>\n",
       "      <td>Manufacturing</td>\n",
       "      <td>Female</td>\n",
       "      <td>26</td>\n",
       "      <td>84913</td>\n",
       "      <td>7</td>\n",
       "      <td>Chicago</td>\n",
       "      <td>2019</td>\n",
       "    </tr>\n",
       "    <tr>\n",
       "      <th>4</th>\n",
       "      <td>5</td>\n",
       "      <td>Analyst</td>\n",
       "      <td>Finance</td>\n",
       "      <td>Manufacturing</td>\n",
       "      <td>Male</td>\n",
       "      <td>55</td>\n",
       "      <td>95409</td>\n",
       "      <td>0</td>\n",
       "      <td>Phoenix</td>\n",
       "      <td>1995</td>\n",
       "    </tr>\n",
       "    <tr>\n",
       "      <th>6</th>\n",
       "      <td>7</td>\n",
       "      <td>Manager</td>\n",
       "      <td>IT</td>\n",
       "      <td>Corporate</td>\n",
       "      <td>Female</td>\n",
       "      <td>27</td>\n",
       "      <td>119746</td>\n",
       "      <td>10</td>\n",
       "      <td>Phoenix</td>\n",
       "      <td>2020</td>\n",
       "    </tr>\n",
       "    <tr>\n",
       "      <th>7</th>\n",
       "      <td>8</td>\n",
       "      <td>Analyst</td>\n",
       "      <td>Finance</td>\n",
       "      <td>Manufacturing</td>\n",
       "      <td>Male</td>\n",
       "      <td>25</td>\n",
       "      <td>41336</td>\n",
       "      <td>0</td>\n",
       "      <td>Miami</td>\n",
       "      <td>2020</td>\n",
       "    </tr>\n",
       "    <tr>\n",
       "      <th>8</th>\n",
       "      <td>9</td>\n",
       "      <td>Manager</td>\n",
       "      <td>Accounting</td>\n",
       "      <td>Manufacturing</td>\n",
       "      <td>Male</td>\n",
       "      <td>29</td>\n",
       "      <td>113527</td>\n",
       "      <td>6</td>\n",
       "      <td>Austin</td>\n",
       "      <td>2019</td>\n",
       "    </tr>\n",
       "    <tr>\n",
       "      <th>9</th>\n",
       "      <td>10</td>\n",
       "      <td>Analyst</td>\n",
       "      <td>Finance</td>\n",
       "      <td>Speciality Products</td>\n",
       "      <td>Female</td>\n",
       "      <td>34</td>\n",
       "      <td>77203</td>\n",
       "      <td>0</td>\n",
       "      <td>Chicago</td>\n",
       "      <td>2018</td>\n",
       "    </tr>\n",
       "    <tr>\n",
       "      <th>10</th>\n",
       "      <td>11</td>\n",
       "      <td>Manger</td>\n",
       "      <td>Human Resources</td>\n",
       "      <td>Manufacturing</td>\n",
       "      <td>Female</td>\n",
       "      <td>36</td>\n",
       "      <td>157333</td>\n",
       "      <td>15</td>\n",
       "      <td>Miami</td>\n",
       "      <td>2009</td>\n",
       "    </tr>\n",
       "    <tr>\n",
       "      <th>11</th>\n",
       "      <td>12</td>\n",
       "      <td>Controls Engineer</td>\n",
       "      <td>Engineering</td>\n",
       "      <td>Speciality Products</td>\n",
       "      <td>Female</td>\n",
       "      <td>27</td>\n",
       "      <td>109851</td>\n",
       "      <td>0</td>\n",
       "      <td>Seattle</td>\n",
       "      <td>2021</td>\n",
       "    </tr>\n",
       "  </tbody>\n",
       "</table>\n",
       "</div>"
      ],
      "text/plain": [
       "    ID                  JobTitle       Department            BusinessUnit  \\\n",
       "0    1                    Manger               IT  Research & Development   \n",
       "2    3                  Director          Finance     Speciality Products   \n",
       "3    4  Computer Systems Manager               IT           Manufacturing   \n",
       "4    5                   Analyst          Finance           Manufacturing   \n",
       "6    7                   Manager               IT               Corporate   \n",
       "7    8                   Analyst          Finance           Manufacturing   \n",
       "8    9                   Manager       Accounting           Manufacturing   \n",
       "9   10                   Analyst          Finance     Speciality Products   \n",
       "10  11                    Manger  Human Resources           Manufacturing   \n",
       "11  12         Controls Engineer      Engineering     Speciality Products   \n",
       "\n",
       "    Gender  Age AnnualSalary($) Bonus(%) City(USA) HireYear  \n",
       "0   Female   55          141604       15   Seattle     2016  \n",
       "2   Female   50          163099       20   Chicago     2006  \n",
       "3   Female   26           84913        7   Chicago     2019  \n",
       "4     Male   55           95409        0   Phoenix     1995  \n",
       "6   Female   27          119746       10   Phoenix     2020  \n",
       "7     Male   25           41336        0     Miami     2020  \n",
       "8     Male   29          113527        6    Austin     2019  \n",
       "9   Female   34           77203        0   Chicago     2018  \n",
       "10  Female   36          157333       15     Miami     2009  \n",
       "11  Female   27          109851        0   Seattle     2021  "
      ]
     },
     "execution_count": 13,
     "metadata": {},
     "output_type": "execute_result"
    }
   ],
   "source": [
    "df.head(10)"
   ]
  },
  {
   "cell_type": "code",
   "execution_count": 14,
   "metadata": {},
   "outputs": [],
   "source": [
    "df.to_csv('DatosLimpios.csv', index=False)"
   ]
  }
 ],
 "metadata": {
  "kernelspec": {
   "display_name": "Python 3",
   "language": "python",
   "name": "python3"
  },
  "language_info": {
   "codemirror_mode": {
    "name": "ipython",
    "version": 3
   },
   "file_extension": ".py",
   "mimetype": "text/x-python",
   "name": "python",
   "nbconvert_exporter": "python",
   "pygments_lexer": "ipython3",
   "version": "3.10.5"
  }
 },
 "nbformat": 4,
 "nbformat_minor": 2
}
